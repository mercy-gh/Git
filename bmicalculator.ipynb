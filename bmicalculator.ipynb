{
 "cells": [
  {
   "cell_type": "code",
   "execution_count": 4,
   "id": "f96c7cc7",
   "metadata": {},
   "outputs": [
    {
     "name": "stdout",
     "output_type": "stream",
     "text": [
      "what is your name?72\n",
      "Hello 72 welcome to our BMI Calculator system\n",
      "Enter your weight72\n",
      "Enter your height6.5\n",
      "------Your Results-----\n",
      "Your BMI is 1.7041420118343196\n",
      "Normal\n"
     ]
    }
   ],
   "source": [
    "name = input(\"what is your name?\")\n",
    "print(\"Hello \" + name + \" welcome to our BMI Calculator system\")\n",
    "weight = float(input(\"Enter your weight\"))\n",
    "height = float(input(\"Enter your height\"))\n",
    "\n",
    "bmi = weight/(height*height)\n",
    "print(\"------Your Results-----\")\n",
    "print(\"Your BMI is\", bmi)\n",
    "\n",
    "if bmi > 25:\n",
    "    print(\"Overweight\")\n",
    "elif bmi > 18:\n",
    "    print(\"Underweight\")\n",
    "else:\n",
    "    print(\"Normal\")"
   ]
  },
  {
   "cell_type": "code",
   "execution_count": null,
   "id": "a41ca67b",
   "metadata": {},
   "outputs": [],
   "source": []
  },
  {
   "cell_type": "code",
   "execution_count": null,
   "id": "dbe42c98",
   "metadata": {},
   "outputs": [],
   "source": []
  }
 ],
 "metadata": {
  "kernelspec": {
   "display_name": "Python 3 (ipykernel)",
   "language": "python",
   "name": "python3"
  },
  "language_info": {
   "codemirror_mode": {
    "name": "ipython",
    "version": 3
   },
   "file_extension": ".py",
   "mimetype": "text/x-python",
   "name": "python",
   "nbconvert_exporter": "python",
   "pygments_lexer": "ipython3",
   "version": "3.12.3"
  }
 },
 "nbformat": 4,
 "nbformat_minor": 5
}
